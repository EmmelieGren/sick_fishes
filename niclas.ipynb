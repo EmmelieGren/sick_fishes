{
 "cells": [
  {
   "cell_type": "markdown",
   "metadata": {},
   "source": [
    "## Niclas TOP SECRET KEEP OUT"
   ]
  },
  {
   "cell_type": "code",
   "execution_count": 1,
   "metadata": {},
   "outputs": [],
   "source": [
    "import os\n",
    "import pandas as pd"
   ]
  },
  {
   "cell_type": "code",
   "execution_count": 14,
   "metadata": {},
   "outputs": [],
   "source": [
    "dataset_path = \"./dataset/SB-FishDisease/\"\n",
    "\n",
    "data = []\n",
    "\n",
    "for root, dirs, files in os.walk(dataset_path):\n",
    "    for file in files:\n",
    "        image_path = os.path.join(root, file)\n",
    "        \n",
    "        image_name = os.path.splitext(file)[0]\n",
    "        \n",
    "        if image_name.lower().startswith(\"healthy_fish\"):\n",
    "            target='healthy'\n",
    "        else:\n",
    "            target = 'disease'\n",
    "        category = image_name.split('_')[:-1]\n",
    "        category = '_'.join(category)\n",
    "        \n",
    "        data.append({\"path\": image_path, \"sickness\": category.lower(), 'target':target})\n",
    "\n",
    "df = pd.DataFrame(data)\n",
    "\n",
    "df.to_csv(\"./dataset/SB-FishDisease.csv\", index=False)\n"
   ]
  },
  {
   "cell_type": "code",
   "execution_count": 17,
   "metadata": {},
   "outputs": [],
   "source": [
    "df = pd.read_csv(\"./dataset/SB-FishDisease.csv\")"
   ]
  },
  {
   "cell_type": "code",
   "execution_count": 15,
   "metadata": {},
   "outputs": [
    {
     "data": {
      "text/plain": [
       "sickness\n",
       "healthy_fish                         141\n",
       "bacterial_gill disease                54\n",
       "bacterial_diseases _aeromoniasis      47\n",
       "fungal_diseases_saprolegniasis        46\n",
       "bacterial_red disease                 45\n",
       "viral_diseases_white_tail_disease     41\n",
       "parasitic_diseases                    35\n",
       "healthy_gills                         14\n",
       "Name: count, dtype: int64"
      ]
     },
     "execution_count": 15,
     "metadata": {},
     "output_type": "execute_result"
    }
   ],
   "source": [
    "df['sickness'].value_counts()"
   ]
  },
  {
   "cell_type": "code",
   "execution_count": 16,
   "metadata": {},
   "outputs": [
    {
     "data": {
      "text/plain": [
       "target\n",
       "disease    282\n",
       "healthy    141\n",
       "Name: count, dtype: int64"
      ]
     },
     "execution_count": 16,
     "metadata": {},
     "output_type": "execute_result"
    }
   ],
   "source": [
    "df['target'].value_counts()"
   ]
  }
 ],
 "metadata": {
  "kernelspec": {
   "display_name": "env",
   "language": "python",
   "name": "python3"
  },
  "language_info": {
   "codemirror_mode": {
    "name": "ipython",
    "version": 3
   },
   "file_extension": ".py",
   "mimetype": "text/x-python",
   "name": "python",
   "nbconvert_exporter": "python",
   "pygments_lexer": "ipython3",
   "version": "3.10.11"
  }
 },
 "nbformat": 4,
 "nbformat_minor": 2
}
