{
 "cells": [
  {
   "cell_type": "code",
   "execution_count": 2,
   "metadata": {},
   "outputs": [],
   "source": [
    "import numpy as np\n",
    "import os\n",
    "from tensorflow.keras.preprocessing.image import img_to_array, load_img\n",
    "from tensorflow.keras.models import load_model"
   ]
  },
  {
   "cell_type": "code",
   "execution_count": 3,
   "metadata": {},
   "outputs": [],
   "source": [
    "def prepare_images(file_paths, target_size=(64, 64)):\n",
    "    images = []\n",
    "    for path in file_paths:\n",
    "        img = load_img(path, target_size=target_size)\n",
    "        img_array = img_to_array(img)\n",
    "        images.append(img_array)\n",
    "    return np.array(images)"
   ]
  },
  {
   "cell_type": "code",
   "execution_count": 15,
   "metadata": {},
   "outputs": [],
   "source": [
    "test_folder_path = './dataset/test_img/Healthy_fishies/'\n",
    "\n",
    "def testing_the_model(model):\n",
    "    accuracy_per_class = {}\n",
    "\n",
    "    for subdir, dirs, files in os.walk(test_folder_path):\n",
    "        if subdir == test_folder_path:\n",
    "            continue\n",
    "\n",
    "        true_labels = []\n",
    "        predicted_labels = []\n",
    "\n",
    "        for file in files:\n",
    "            img_path = os.path.join(subdir, file)\n",
    "            test_image = prepare_images([img_path])\n",
    "\n",
    "            prediction = model.predict(test_image, verbose=0)\n",
    "\n",
    "            true_class = os.path.basename(subdir)\n",
    "\n",
    "            predicted_class_index = np.argmax(prediction[0])\n",
    "            class_labels = [\"Diseased\", \"Healthy\"]\n",
    "            predicted_class_label = class_labels[predicted_class_index]\n",
    "\n",
    "            true_labels.append('Healthy')\n",
    "            predicted_labels.append(predicted_class_label)\n",
    "\n",
    "        accuracy = np.mean(np.array(true_labels) == np.array(predicted_labels))\n",
    "        accuracy_per_class[true_class] = accuracy\n",
    "    return accuracy_per_class"
   ]
  },
  {
   "cell_type": "code",
   "execution_count": 18,
   "metadata": {},
   "outputs": [],
   "source": [
    "loaded_model = load_model('./saved_models/cnn_model_original_data_10-1-24.h5')"
   ]
  },
  {
   "cell_type": "code",
   "execution_count": 19,
   "metadata": {},
   "outputs": [
    {
     "data": {
      "text/plain": [
       "{'Black Sea Sprat': 0.041666666666666664,\n",
       " 'Gilt-Head Bream': 0.1346153846153846,\n",
       " 'Hourse Mackerel': 0.022727272727272728,\n",
       " 'Red Mullet': 0.25,\n",
       " 'Red Sea Bream': 0.2826086956521739,\n",
       " 'Sea Bass': 0.10526315789473684,\n",
       " 'Striped Red Mullet': 0.025}"
      ]
     },
     "execution_count": 19,
     "metadata": {},
     "output_type": "execute_result"
    }
   ],
   "source": [
    "accuracy_per_label = testing_the_model(loaded_model)\n",
    "accuracy_per_label"
   ]
  },
  {
   "cell_type": "code",
   "execution_count": 20,
   "metadata": {},
   "outputs": [],
   "source": [
    "loaded_model = load_model('./saved_models/cnn_model_more_data_10-1-24.h5')"
   ]
  },
  {
   "cell_type": "code",
   "execution_count": 21,
   "metadata": {},
   "outputs": [
    {
     "data": {
      "text/plain": [
       "{'Black Sea Sprat': 0.3125,\n",
       " 'Gilt-Head Bream': 0.40384615384615385,\n",
       " 'Hourse Mackerel': 0.36363636363636365,\n",
       " 'Red Mullet': 0.20454545454545456,\n",
       " 'Red Sea Bream': 0.45652173913043476,\n",
       " 'Sea Bass': 0.2631578947368421,\n",
       " 'Striped Red Mullet': 0.225}"
      ]
     },
     "execution_count": 21,
     "metadata": {},
     "output_type": "execute_result"
    }
   ],
   "source": [
    "accuracy_per_label = testing_the_model(loaded_model)\n",
    "accuracy_per_label"
   ]
  },
  {
   "cell_type": "code",
   "execution_count": 22,
   "metadata": {},
   "outputs": [],
   "source": [
    "loaded_model = load_model('./saved_models/cnn_model_more_data_17-1-24.h5')"
   ]
  },
  {
   "cell_type": "code",
   "execution_count": 23,
   "metadata": {},
   "outputs": [
    {
     "data": {
      "text/plain": [
       "{'Black Sea Sprat': 0.3333333333333333,\n",
       " 'Gilt-Head Bream': 0.6153846153846154,\n",
       " 'Hourse Mackerel': 0.4772727272727273,\n",
       " 'Red Mullet': 0.38636363636363635,\n",
       " 'Red Sea Bream': 0.45652173913043476,\n",
       " 'Sea Bass': 0.6578947368421053,\n",
       " 'Striped Red Mullet': 0.225}"
      ]
     },
     "execution_count": 23,
     "metadata": {},
     "output_type": "execute_result"
    }
   ],
   "source": [
    "accuracy_per_label = testing_the_model(loaded_model)\n",
    "accuracy_per_label"
   ]
  }
 ],
 "metadata": {
  "kernelspec": {
   "display_name": "env",
   "language": "python",
   "name": "python3"
  },
  "language_info": {
   "codemirror_mode": {
    "name": "ipython",
    "version": 3
   },
   "file_extension": ".py",
   "mimetype": "text/x-python",
   "name": "python",
   "nbconvert_exporter": "python",
   "pygments_lexer": "ipython3",
   "version": "3.10.11"
  }
 },
 "nbformat": 4,
 "nbformat_minor": 2
}
