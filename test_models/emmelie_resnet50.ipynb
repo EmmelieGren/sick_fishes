{
 "cells": [
  {
   "cell_type": "markdown",
   "metadata": {},
   "source": [
    "# Emmelies första test för resnet50\n",
    "Utvecklingskod som ej används"
   ]
  },
  {
   "cell_type": "code",
   "execution_count": 1,
   "metadata": {},
   "outputs": [
    {
     "name": "stdout",
     "output_type": "stream",
     "text": [
      "WARNING:tensorflow:From c:\\Users\\emmel\\AppData\\Local\\Programs\\Python\\Python310\\lib\\site-packages\\keras\\src\\losses.py:2976: The name tf.losses.sparse_softmax_cross_entropy is deprecated. Please use tf.compat.v1.losses.sparse_softmax_cross_entropy instead.\n",
      "\n"
     ]
    }
   ],
   "source": [
    "import pandas as pd\n",
    "import os\n",
    "import seaborn as sns\n",
    "import matplotlib.pyplot as plt\n",
    "import numpy as np\n",
    "\n",
    "from tensorflow.keras.preprocessing.image import ImageDataGenerator\n",
    "from tensorflow.keras.applications import ResNet50\n",
    "from tensorflow.keras.models import load_model\n",
    "from tensorflow.keras.preprocessing import image\n",
    "from tensorflow.keras import layers\n",
    "from tensorflow.keras import Model\n",
    "\n",
    "from sklearn.model_selection import train_test_split\n",
    "from sklearn.metrics import confusion_matrix\n",
    "from sklearn.utils.class_weight import compute_class_weight"
   ]
  },
  {
   "cell_type": "markdown",
   "metadata": {},
   "source": [
    "!pip install torchmetrics\n",
    "!torchinfo"
   ]
  },
  {
   "cell_type": "code",
   "execution_count": 2,
   "metadata": {},
   "outputs": [],
   "source": [
    "# Path to your dataset\n",
    "dataset_path = 'C:/Users/emmel/Desktop/sick_fishes/dataset/SB-FishDisease'\n",
    "\n",
    "# Lists to store file paths\n",
    "healthy_fishes = []\n",
    "sick_fishes = []\n",
    "\n",
    "# Read folder names\n",
    "folders = os.listdir(dataset_path)\n",
    "\n",
    "# Iterate through folders\n",
    "for folder in folders:\n",
    "    folder_path = os.path.join(dataset_path, folder)\n",
    "    \n",
    "    # Check if the folder name starts with \"Healthy\"\n",
    "    if folder.startswith('Healthy'):\n",
    "        # Append all files in the folder to healthy_fishes list\n",
    "        healthy_fishes.extend([os.path.join(folder_path, file) for file in os.listdir(folder_path)])\n",
    "    else:\n",
    "        # Append all files in the folder to sick_fishes list\n",
    "        sick_fishes.extend([os.path.join(folder_path, file) for file in os.listdir(folder_path)])\n",
    "\n",
    "# Perform train-test split for healthy fishes\n",
    "healthy_train, healthy_val = train_test_split(healthy_fishes, test_size=0.2, random_state=42)\n",
    "\n",
    "# Perform train-test split for sick fishes\n",
    "sick_train, sick_val = train_test_split(sick_fishes, test_size=0.2, random_state=42)\n"
   ]
  },
  {
   "cell_type": "code",
   "execution_count": 3,
   "metadata": {},
   "outputs": [
    {
     "name": "stdout",
     "output_type": "stream",
     "text": [
      "Healthy Train Files: ['C:/Users/emmel/Desktop/sick_fishes/dataset/SB-FishDisease\\\\Healthy Fish\\\\Healthy_Fish_55.jpg', 'C:/Users/emmel/Desktop/sick_fishes/dataset/SB-FishDisease\\\\Healthy Fish\\\\Healthy_Fish_81.jpg', 'C:/Users/emmel/Desktop/sick_fishes/dataset/SB-FishDisease\\\\Healthy Fish\\\\Healthy_Fish_41.jpg', 'C:/Users/emmel/Desktop/sick_fishes/dataset/SB-FishDisease\\\\Healthy Fish\\\\Healthy_Fish_68.jpg', 'C:/Users/emmel/Desktop/sick_fishes/dataset/SB-FishDisease\\\\Healthy Fish\\\\Healthy_Fish_24.jpeg']\n",
      "Healthy Validation Files: ['C:/Users/emmel/Desktop/sick_fishes/dataset/SB-FishDisease\\\\Healthy Fish\\\\Healthy_Fish_40.jpg', 'C:/Users/emmel/Desktop/sick_fishes/dataset/SB-FishDisease\\\\Healthy Gills\\\\healthy_gills_10.jpg', 'C:/Users/emmel/Desktop/sick_fishes/dataset/SB-FishDisease\\\\Healthy Fish\\\\Healthy_Fish_12.jpg', 'C:/Users/emmel/Desktop/sick_fishes/dataset/SB-FishDisease\\\\Healthy Fish\\\\Healthy_Fish_118.jpg', 'C:/Users/emmel/Desktop/sick_fishes/dataset/SB-FishDisease\\\\Healthy Fish\\\\Healthy_Fish_77.jpg']\n",
      "Sick Train Files: ['C:/Users/emmel/Desktop/sick_fishes/dataset/SB-FishDisease\\\\Bacterial Red disease\\\\Bacterial_Red disease_40.jpg', 'C:/Users/emmel/Desktop/sick_fishes/dataset/SB-FishDisease\\\\Fungal diseases Saprolegniasis\\\\Fungal_diseases_Saprolegniasis_20.jpg', 'C:/Users/emmel/Desktop/sick_fishes/dataset/SB-FishDisease\\\\Viral diseases White tail disease\\\\Viral_diseases_White_tail_disease_23.png', 'C:/Users/emmel/Desktop/sick_fishes/dataset/SB-FishDisease\\\\Bacterial diseases - Aeromoniasis\\\\Bacterial_diseases _Aeromoniasis _17.jpeg', 'C:/Users/emmel/Desktop/sick_fishes/dataset/SB-FishDisease\\\\Viral diseases White tail disease\\\\Viral_diseases_White_tail_disease_40.jpeg']\n",
      "Sick Validation Files: ['C:/Users/emmel/Desktop/sick_fishes/dataset/SB-FishDisease\\\\Bacterial Red disease\\\\Bacterial_Red disease_15.png', 'C:/Users/emmel/Desktop/sick_fishes/dataset/SB-FishDisease\\\\Parasitic diseases\\\\Parasitic_diseases_22.jpg', 'C:/Users/emmel/Desktop/sick_fishes/dataset/SB-FishDisease\\\\Bacterial diseases - Aeromoniasis\\\\Bacterial_diseases _Aeromoniasis _23.jpg', 'C:/Users/emmel/Desktop/sick_fishes/dataset/SB-FishDisease\\\\Bacterial Red disease\\\\Bacterial_Red disease_32.jpg', 'C:/Users/emmel/Desktop/sick_fishes/dataset/SB-FishDisease\\\\Bacterial Red disease\\\\Bacterial_Red disease_17.png']\n"
     ]
    }
   ],
   "source": [
    "# Now, you can use these lists directly for training and validation\n",
    "# For example, printing the first 5 file paths in each set:\n",
    "print(\"Healthy Train Files:\", healthy_train[:5])\n",
    "print(\"Healthy Validation Files:\", healthy_val[:5])\n",
    "print(\"Sick Train Files:\", sick_train[:5])\n",
    "print(\"Sick Validation Files:\", sick_val[:5])"
   ]
  },
  {
   "cell_type": "code",
   "execution_count": 4,
   "metadata": {},
   "outputs": [
    {
     "name": "stdout",
     "output_type": "stream",
     "text": [
      "Found 337 validated image filenames belonging to 2 classes.\n",
      "Found 84 validated image filenames belonging to 2 classes.\n"
     ]
    },
    {
     "name": "stderr",
     "output_type": "stream",
     "text": [
      "c:\\Users\\emmel\\AppData\\Local\\Programs\\Python\\Python310\\lib\\site-packages\\keras\\src\\preprocessing\\image.py:1137: UserWarning: Found 1 invalid image filename(s) in x_col=\"filepath\". These filename(s) will be ignored.\n",
      "  warnings.warn(\n",
      "c:\\Users\\emmel\\AppData\\Local\\Programs\\Python\\Python310\\lib\\site-packages\\keras\\src\\preprocessing\\image.py:1137: UserWarning: Found 1 invalid image filename(s) in x_col=\"filepath\". These filename(s) will be ignored.\n",
      "  warnings.warn(\n"
     ]
    }
   ],
   "source": [
    "# Create DataFrames from the file paths\n",
    "train_df = pd.DataFrame({\n",
    "    'filepath': healthy_train + sick_train,\n",
    "    'label': ['1'] * len(healthy_train) + ['0'] * len(sick_train)  # '1' for Healthy, '0' for Sick as strings\n",
    "})\n",
    "\n",
    "val_df = pd.DataFrame({\n",
    "    'filepath': healthy_val + sick_val,\n",
    "    'label': ['1'] * len(healthy_val) + ['0'] * len(sick_val)\n",
    "})\n",
    "\n",
    "# ImageDataGenerator with rescaling and augmentation\n",
    "train_datagen = ImageDataGenerator(\n",
    "    rescale=1./255,\n",
    "    shear_range=0.2,\n",
    "    zoom_range=0.2,\n",
    "    horizontal_flip=True\n",
    ")\n",
    "\n",
    "val_datagen = ImageDataGenerator(rescale=1./255)\n",
    "\n",
    "batch_size = 32\n",
    "\n",
    "# Flow from DataFrame\n",
    "train_generator = train_datagen.flow_from_dataframe(\n",
    "    train_df,\n",
    "    x_col='filepath',\n",
    "    y_col='label',\n",
    "    target_size=(224, 224),\n",
    "    batch_size=batch_size,\n",
    "    class_mode='binary'\n",
    ")\n",
    "\n",
    "validation_generator = val_datagen.flow_from_dataframe(\n",
    "    val_df,\n",
    "    x_col='filepath',\n",
    "    y_col='label',\n",
    "    target_size=(224, 224),\n",
    "    batch_size=batch_size,\n",
    "    class_mode='binary'\n",
    ")"
   ]
  },
  {
   "cell_type": "code",
   "execution_count": 5,
   "metadata": {},
   "outputs": [
    {
     "name": "stdout",
     "output_type": "stream",
     "text": [
      "WARNING:tensorflow:From c:\\Users\\emmel\\AppData\\Local\\Programs\\Python\\Python310\\lib\\site-packages\\keras\\src\\backend.py:1398: The name tf.executing_eagerly_outside_functions is deprecated. Please use tf.compat.v1.executing_eagerly_outside_functions instead.\n",
      "\n",
      "WARNING:tensorflow:From c:\\Users\\emmel\\AppData\\Local\\Programs\\Python\\Python310\\lib\\site-packages\\keras\\src\\layers\\normalization\\batch_normalization.py:979: The name tf.nn.fused_batch_norm is deprecated. Please use tf.compat.v1.nn.fused_batch_norm instead.\n",
      "\n",
      "WARNING:tensorflow:From c:\\Users\\emmel\\AppData\\Local\\Programs\\Python\\Python310\\lib\\site-packages\\keras\\src\\optimizers\\__init__.py:309: The name tf.train.Optimizer is deprecated. Please use tf.compat.v1.train.Optimizer instead.\n",
      "\n"
     ]
    }
   ],
   "source": [
    "base_model = ResNet50(weights='imagenet', include_top=False, input_shape=(224, 224, 3))\n",
    "\n",
    "for layer in base_model.layers:\n",
    "    layer.trainable = False\n",
    "\n",
    "x = layers.Flatten()(base_model.output)\n",
    "x = layers.Dense(256, activation='relu')(x)\n",
    "x = layers.Dropout(0.5)(x)\n",
    "output = layers.Dense(1, activation='sigmoid')(x)  # Binary classification\n",
    "\n",
    "model = Model(base_model.input, output)\n",
    "\n",
    "model.compile(optimizer='adam', loss='binary_crossentropy', metrics=['accuracy'])"
   ]
  },
  {
   "cell_type": "code",
   "execution_count": 6,
   "metadata": {},
   "outputs": [
    {
     "ename": "NameError",
     "evalue": "name 'y_true' is not defined",
     "output_type": "error",
     "traceback": [
      "\u001b[1;31m---------------------------------------------------------------------------\u001b[0m",
      "\u001b[1;31mNameError\u001b[0m                                 Traceback (most recent call last)",
      "\u001b[1;32mc:\\Users\\emmel\\Desktop\\sick_fishes\\emmelie.ipynb Cell 8\u001b[0m line \u001b[0;36m2\n\u001b[0;32m      <a href='vscode-notebook-cell:/c%3A/Users/emmel/Desktop/sick_fishes/emmelie.ipynb#X20sZmlsZQ%3D%3D?line=0'>1</a>\u001b[0m \u001b[39m# Calculate class weights\u001b[39;00m\n\u001b[1;32m----> <a href='vscode-notebook-cell:/c%3A/Users/emmel/Desktop/sick_fishes/emmelie.ipynb#X20sZmlsZQ%3D%3D?line=1'>2</a>\u001b[0m class_weights \u001b[39m=\u001b[39m compute_class_weight(\u001b[39m'\u001b[39m\u001b[39mbalanced\u001b[39m\u001b[39m'\u001b[39m, classes\u001b[39m=\u001b[39mnp\u001b[39m.\u001b[39munique(y_true), y\u001b[39m=\u001b[39my_true)\n\u001b[0;32m      <a href='vscode-notebook-cell:/c%3A/Users/emmel/Desktop/sick_fishes/emmelie.ipynb#X20sZmlsZQ%3D%3D?line=3'>4</a>\u001b[0m \u001b[39m# Create a dictionary to be used in the fit method\u001b[39;00m\n\u001b[0;32m      <a href='vscode-notebook-cell:/c%3A/Users/emmel/Desktop/sick_fishes/emmelie.ipynb#X20sZmlsZQ%3D%3D?line=4'>5</a>\u001b[0m class_weight_dict \u001b[39m=\u001b[39m {\u001b[39m0\u001b[39m: class_weights[\u001b[39m0\u001b[39m], \u001b[39m1\u001b[39m: class_weights[\u001b[39m1\u001b[39m]}\n",
      "\u001b[1;31mNameError\u001b[0m: name 'y_true' is not defined"
     ]
    }
   ],
   "source": [
    "\n",
    "\n",
    "# Calculate class weights\n",
    "class_weights = compute_class_weight('balanced', classes=np.unique(y_true), y=y_true)\n",
    "\n",
    "# Create a dictionary to be used in the fit method\n",
    "class_weight_dict = {0: class_weights[0], 1: class_weights[1]}\n",
    "\n",
    "# Example fit method\n",
    "history = model.fit(\n",
    "    train_generator,\n",
    "    steps_per_epoch=train_generator.samples // batch_size,\n",
    "    epochs=10,\n",
    "    validation_data=validation_generator,\n",
    "    validation_steps=validation_generator.samples // batch_size,\n",
    "    class_weight=class_weight_dict\n",
    ")"
   ]
  },
  {
   "cell_type": "code",
   "execution_count": null,
   "metadata": {},
   "outputs": [
    {
     "name": "stdout",
     "output_type": "stream",
     "text": [
      "Epoch 1/10\n",
      "WARNING:tensorflow:From c:\\Users\\emmel\\AppData\\Local\\Programs\\Python\\Python310\\lib\\site-packages\\keras\\src\\utils\\tf_utils.py:492: The name tf.ragged.RaggedTensorValue is deprecated. Please use tf.compat.v1.ragged.RaggedTensorValue instead.\n",
      "\n",
      "WARNING:tensorflow:From c:\\Users\\emmel\\AppData\\Local\\Programs\\Python\\Python310\\lib\\site-packages\\keras\\src\\engine\\base_layer_utils.py:384: The name tf.executing_eagerly_outside_functions is deprecated. Please use tf.compat.v1.executing_eagerly_outside_functions instead.\n",
      "\n",
      "10/10 [==============================] - 18s 2s/step - loss: 4.5995 - accuracy: 0.5541 - val_loss: 0.6471 - val_accuracy: 0.6562\n",
      "Epoch 2/10\n",
      "10/10 [==============================] - 16s 2s/step - loss: 0.7765 - accuracy: 0.5049 - val_loss: 0.6754 - val_accuracy: 0.5938\n",
      "Epoch 3/10\n",
      "10/10 [==============================] - 16s 2s/step - loss: 0.6823 - accuracy: 0.4951 - val_loss: 0.6591 - val_accuracy: 0.6406\n",
      "Epoch 4/10\n",
      "10/10 [==============================] - 17s 2s/step - loss: 0.7072 - accuracy: 0.6295 - val_loss: 0.6610 - val_accuracy: 0.6250\n",
      "Epoch 5/10\n",
      "10/10 [==============================] - 17s 2s/step - loss: 0.6866 - accuracy: 0.6281 - val_loss: 0.6765 - val_accuracy: 0.6719\n",
      "Epoch 6/10\n",
      "10/10 [==============================] - 16s 2s/step - loss: 0.6621 - accuracy: 0.6295 - val_loss: 0.6577 - val_accuracy: 0.6406\n",
      "Epoch 7/10\n",
      "10/10 [==============================] - 17s 2s/step - loss: 0.6796 - accuracy: 0.6361 - val_loss: 0.6601 - val_accuracy: 0.6250\n",
      "Epoch 8/10\n",
      "10/10 [==============================] - 16s 2s/step - loss: 0.6842 - accuracy: 0.6230 - val_loss: 0.6743 - val_accuracy: 0.6406\n",
      "Epoch 9/10\n",
      "10/10 [==============================] - 16s 2s/step - loss: 0.6818 - accuracy: 0.6361 - val_loss: 0.6636 - val_accuracy: 0.6562\n",
      "Epoch 10/10\n",
      "10/10 [==============================] - 16s 2s/step - loss: 0.7511 - accuracy: 0.5938 - val_loss: 0.6558 - val_accuracy: 0.6406\n"
     ]
    }
   ],
   "source": [
    "# history = model.fit(\n",
    "#     train_generator,\n",
    "#     steps_per_epoch=train_generator.samples // batch_size,\n",
    "#     epochs=10,\n",
    "#     validation_data=validation_generator,\n",
    "#     validation_steps=validation_generator.samples // batch_size\n",
    "# )"
   ]
  },
  {
   "cell_type": "code",
   "execution_count": null,
   "metadata": {},
   "outputs": [
    {
     "name": "stdout",
     "output_type": "stream",
     "text": [
      "3/3 [==============================] - 4s 875ms/step\n"
     ]
    },
    {
     "data": {
      "image/png": "[encoded data removed]",
      "text/plain": [
       "<Figure size 800x600 with 2 Axes>"
      ]
     },
     "metadata": {},
     "output_type": "display_data"
    }
   ],
   "source": [
    "y_true = validation_generator.classes\n",
    "y_pred = (model.predict(validation_generator) > 0.5).astype(int)  # Convert probabilities to binary predictions\n",
    "\n",
    "conf_mat = confusion_matrix(y_true, y_pred)\n",
    "\n",
    "plt.figure(figsize=(8, 6))\n",
    "sns.heatmap(conf_mat, annot=True, fmt='d', cmap='Blues', xticklabels=['Sick', 'Healthy'], yticklabels=['Sick', 'Healthy'])\n",
    "plt.xlabel('Predicted')\n",
    "plt.ylabel('True')\n",
    "plt.title('Confusion Matrix')\n",
    "plt.show()"
   ]
  },
  {
   "cell_type": "code",
   "execution_count": null,
   "metadata": {},
   "outputs": [
    {
     "name": "stdout",
     "output_type": "stream",
     "text": [
      "3/3 [==============================] - 3s 926ms/step - loss: 0.6588 - accuracy: 0.6310\n"
     ]
    },
    {
     "data": {
      "text/plain": [
       "[0.6588329076766968, 0.6309523582458496]"
      ]
     },
     "execution_count": 8,
     "metadata": {},
     "output_type": "execute_result"
    }
   ],
   "source": [
    "model.evaluate(validation_generator)"
   ]
  },
  {
   "cell_type": "code",
   "execution_count": null,
   "metadata": {},
   "outputs": [],
   "source": [
    "#model.save('fish_classifier_resnet50.h5')"
   ]
  },
  {
   "cell_type": "code",
   "execution_count": null,
   "metadata": {},
   "outputs": [],
   "source": [
    "# Load the model\n",
    "#model = load_model('fish_classifier_resnet50.h5')\n",
    "\n",
    "# Load and preprocess a new image\n",
    "img_path = 'path/to/your/image.jpg'\n",
    "img = image.load_img(img_path, target_size=(224, 224))\n",
    "img_array = image.img_to_array(img)\n",
    "img_array = np.expand_dims(img_array, axis=0)\n",
    "img_array /= 255.\n",
    "\n",
    "# Make predictions\n",
    "predictions = model.predict(img_array)\n",
    "print(predictions)"
   ]
  }
 ],
 "metadata": {
  "kernelspec": {
   "display_name": "Python 3",
   "language": "python",
   "name": "python3"
  },
  "language_info": {
   "codemirror_mode": {
    "name": "ipython",
    "version": 3
   },
   "file_extension": ".py",
   "mimetype": "text/x-python",
   "name": "python",
   "nbconvert_exporter": "python",
   "pygments_lexer": "ipython3",
   "version": "3.10.6"
  }
 },
 "nbformat": 4,
 "nbformat_minor": 2
}
