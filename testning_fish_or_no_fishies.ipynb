{
 "cells": [
  {
   "cell_type": "markdown",
   "metadata": {},
   "source": [
    "# Testning av Fish or no fishies Yolov5 modell."
   ]
  },
  {
   "cell_type": "markdown",
   "metadata": {},
   "source": [
    "Slutsatsen är att modell: fish_model_yolov5_23-12-20.pt\n",
    "är den vi kommer använda oss av. Den andra visar tecken på overfitting."
   ]
  },
  {
   "cell_type": "code",
   "execution_count": 13,
   "metadata": {},
   "outputs": [],
   "source": [
    "import torch\n",
    "import cv2\n",
    "from PIL import Image\n",
    "import matplotlib.pyplot as plt"
   ]
  },
  {
   "cell_type": "markdown",
   "metadata": {},
   "source": [
    "### Testbilder"
   ]
  },
  {
   "cell_type": "code",
   "execution_count": 14,
   "metadata": {},
   "outputs": [],
   "source": [
    "#image_path = \"./dataset/test_img/Healthy_fishies/Red Mullet/00142.png\"\n",
    "#image_path = \"./dataset/test_img/Healthy_fishies/Hourse Mackerel/00455.png\"\n",
    "#image_path = \"./dataset/test_img/sick_fishy_1.jpg\"\n",
    "image_path = \"./dataset/test_img/Healthy_fishies/Striped Red Mullet/00402.png\""
   ]
  },
  {
   "cell_type": "code",
   "execution_count": 15,
   "metadata": {},
   "outputs": [],
   "source": [
    "original_image = cv2.imread(image_path)\n",
    "image = Image.fromarray(cv2.cvtColor(original_image, cv2.COLOR_BGR2RGB))"
   ]
  },
  {
   "cell_type": "markdown",
   "metadata": {},
   "source": [
    "### Yolopath"
   ]
  },
  {
   "cell_type": "code",
   "execution_count": 4,
   "metadata": {},
   "outputs": [],
   "source": [
    "# yolo_path = \"C:/Users/emmel/Desktop/testning av yolov5/yolov5\""
   ]
  },
  {
   "cell_type": "markdown",
   "metadata": {},
   "source": [
    "### Modell ett"
   ]
  },
  {
   "cell_type": "code",
   "execution_count": 16,
   "metadata": {},
   "outputs": [
    {
     "name": "stderr",
     "output_type": "stream",
     "text": [
      "YOLOv5  2024-1-19 Python-3.10.11 torch-2.1.1+cpu CPU\n",
      "\n",
      "Fusing layers... \n",
      "custom_YOLOv5s summary: 283 layers, 7255094 parameters, 0 gradients\n",
      "Adding AutoShape... \n"
     ]
    }
   ],
   "source": [
    "# Niclas sätt att importera yolov5\n",
    "import yolov5\n",
    "model_path = \"./saved_models/fish_model_yolov5_23-12-20.pt\"\n",
    "fish_model = yolov5.load(model_path)\n",
    "fish_model.conf = 0.14"
   ]
  },
  {
   "cell_type": "code",
   "execution_count": 5,
   "metadata": {},
   "outputs": [
    {
     "name": "stderr",
     "output_type": "stream",
     "text": [
      "YOLOv5  2023-10-18 Python-3.10.6 torch-2.1.1+cpu CPU\n",
      "\n",
      "Fusing layers... \n",
      "custom_YOLOv5s summary: 232 layers, 7246518 parameters, 0 gradients\n",
      "Adding AutoShape... \n"
     ]
    }
   ],
   "source": [
    "#Emmelies sätt att importera yolov5\n",
    "# model_path = \"./saved_models/fish_model_yolov5_23-12-20.pt\"\n",
    "\n",
    "# fish_model = torch.hub.load(yolo_path, 'custom', path=model_path, source='local')\n",
    "# fish_model.conf = 0.14"
   ]
  },
  {
   "cell_type": "code",
   "execution_count": 6,
   "metadata": {},
   "outputs": [],
   "source": [
    "yolo_result = fish_model(image)\n",
    "yolo_preds = yolo_result.pandas().xyxy[0]"
   ]
  },
  {
   "cell_type": "code",
   "execution_count": 7,
   "metadata": {},
   "outputs": [
    {
     "name": "stdout",
     "output_type": "stream",
     "text": [
      "Fish detected with confidence: 33.28%\n",
      "Fish detected with confidence: 15.36%\n"
     ]
    },
    {
     "name": "stderr",
     "output_type": "stream",
     "text": [
      "C:\\Users\\emmel\\AppData\\Local\\Temp\\ipykernel_13400\\2493435558.py:20: UserWarning: Matplotlib is currently using agg, which is a non-GUI backend, so cannot show the figure.\n",
      "  plt.show()\n",
      "C:\\Users\\emmel\\AppData\\Local\\Temp\\ipykernel_13400\\2493435558.py:20: UserWarning: Matplotlib is currently using agg, which is a non-GUI backend, so cannot show the figure.\n",
      "  plt.show()\n"
     ]
    }
   ],
   "source": [
    "if len(yolo_preds) > 0:\n",
    "    for index, pred in yolo_preds.iterrows():\n",
    "        confidence = pred['confidence']\n",
    "        print(f\"Fish detected with confidence: {confidence:.2%}\")\n",
    "\n",
    "        # Get coordinates of the bounding box\n",
    "        bbox = pred[['xmin', 'ymin', 'xmax', 'ymax']].values\n",
    "\n",
    "        # Plot the image\n",
    "        plt.imshow(cv2.cvtColor(original_image, cv2.COLOR_BGR2RGB))\n",
    "\n",
    "        # Add bounding box to the plot\n",
    "        plt.gca().add_patch(plt.Rectangle((bbox[0], bbox[1]), bbox[2] - bbox[0], bbox[3] - bbox[1],\n",
    "                                         linewidth=2, edgecolor='r', facecolor='none'))\n",
    "\n",
    "        # Save the plot as an image file\n",
    "        plt.savefig(f'output_plot_model_1.png')\n",
    "\n",
    "        # Show the plot\n",
    "        plt.show()\n",
    "else:\n",
    "    print(\"No fish detected\")"
   ]
  },
  {
   "cell_type": "markdown",
   "metadata": {},
   "source": [
    "### Modell två"
   ]
  },
  {
   "cell_type": "code",
   "execution_count": 8,
   "metadata": {},
   "outputs": [
    {
     "name": "stderr",
     "output_type": "stream",
     "text": [
      "YOLOv5  2023-10-18 Python-3.10.6 torch-2.1.1+cpu CPU\n",
      "\n",
      "Fusing layers... \n",
      "custom_YOLOv5s summary: 232 layers, 7246518 parameters, 0 gradients\n",
      "Adding AutoShape... \n"
     ]
    }
   ],
   "source": [
    "yolo_path_2 = \"C:/Users/emmel/Desktop/testning av yolov5/yolov5\"\n",
    "model_path_2 = \"./saved_models/fish_model_yolov5_23-12-19.pt\"\n",
    "\n",
    "fish_model_2 = torch.hub.load(yolo_path_2, 'custom', path=model_path_2, source='local')\n",
    "fish_model_2.conf = 0.14"
   ]
  },
  {
   "cell_type": "code",
   "execution_count": 9,
   "metadata": {},
   "outputs": [],
   "source": [
    "yolo_result_2 = fish_model_2(image)\n",
    "yolo_preds_2 = yolo_result_2.pandas().xyxy[0]"
   ]
  },
  {
   "cell_type": "code",
   "execution_count": 10,
   "metadata": {},
   "outputs": [
    {
     "name": "stdout",
     "output_type": "stream",
     "text": [
      "Fish detected with confidence: 20.88%\n"
     ]
    },
    {
     "name": "stderr",
     "output_type": "stream",
     "text": [
      "C:\\Users\\emmel\\AppData\\Local\\Temp\\ipykernel_13400\\758632082.py:20: UserWarning: Matplotlib is currently using agg, which is a non-GUI backend, so cannot show the figure.\n",
      "  plt.show()\n"
     ]
    }
   ],
   "source": [
    "if len(yolo_preds_2) > 0:\n",
    "    for index, pred in yolo_preds_2.iterrows():\n",
    "        confidence = pred['confidence']\n",
    "        print(f\"Fish detected with confidence: {confidence:.2%}\")\n",
    "\n",
    "        # Get coordinates of the bounding box\n",
    "        bbox = pred[['xmin', 'ymin', 'xmax', 'ymax']].values\n",
    "\n",
    "        # Plot the image\n",
    "        plt.imshow(cv2.cvtColor(original_image, cv2.COLOR_BGR2RGB))\n",
    "\n",
    "        # Add bounding box to the plot\n",
    "        plt.gca().add_patch(plt.Rectangle((bbox[0], bbox[1]), bbox[2] - bbox[0], bbox[3] - bbox[1],\n",
    "                                         linewidth=2, edgecolor='r', facecolor='none'))\n",
    "\n",
    "        # Save the plot as an image file\n",
    "        plt.savefig(f'output_plot_model_2.png')\n",
    "\n",
    "        # Show the plot\n",
    "        plt.show()\n",
    "else:\n",
    "    print(\"No fish detected\")"
   ]
  }
 ],
 "metadata": {
  "kernelspec": {
   "display_name": "Python 3",
   "language": "python",
   "name": "python3"
  },
  "language_info": {
   "codemirror_mode": {
    "name": "ipython",
    "version": 3
   },
   "file_extension": ".py",
   "mimetype": "text/x-python",
   "name": "python",
   "nbconvert_exporter": "python",
   "pygments_lexer": "ipython3",
   "version": "3.10.11"
  }
 },
 "nbformat": 4,
 "nbformat_minor": 2
}
