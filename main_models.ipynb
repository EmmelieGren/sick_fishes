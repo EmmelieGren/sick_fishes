{
 "cells": [
  {
   "cell_type": "code",
   "execution_count": 21,
   "metadata": {},
   "outputs": [],
   "source": [
    "import torch\n",
    "import torch.nn as nn\n",
    "import cv2\n",
    "from torchvision import transforms\n",
    "from PIL import Image\n",
    "import joblib"
   ]
  },
  {
   "cell_type": "markdown",
   "metadata": {},
   "source": [
    "#### Fish Model"
   ]
  },
  {
   "cell_type": "code",
   "execution_count": 22,
   "metadata": {},
   "outputs": [
    {
     "name": "stderr",
     "output_type": "stream",
     "text": [
      "YOLOv5  2023-10-18 Python-3.10.6 torch-2.1.1+cpu CPU\n",
      "\n"
     ]
    },
    {
     "name": "stderr",
     "output_type": "stream",
     "text": [
      "Fusing layers... \n",
      "custom_YOLOv5s summary: 232 layers, 7246518 parameters, 0 gradients\n",
      "Adding AutoShape... \n"
     ]
    }
   ],
   "source": [
    "yolo_path = \"C:/Users/emmel/Desktop/testning av yolov5/yolov5\"\n",
    "model_path = \"./saved_models/best.pt\"\n",
    "\n",
    "fish_model = torch.hub.load(yolo_path, 'custom', path=model_path, source='local')\n",
    "fish_model.conf = 0.10"
   ]
  },
  {
   "cell_type": "markdown",
   "metadata": {},
   "source": [
    "#### Sick Fish Model\n",
    "Exempelkod för att ladda den modell vi väl använder:"
   ]
  },
  {
   "cell_type": "code",
   "execution_count": 23,
   "metadata": {},
   "outputs": [],
   "source": [
    "sick_model = joblib.load(\"./saved_models/my_random_forest.joblib\")  "
   ]
  },
  {
   "cell_type": "markdown",
   "metadata": {},
   "source": [
    "#### Testbild"
   ]
  },
  {
   "cell_type": "code",
   "execution_count": 24,
   "metadata": {},
   "outputs": [],
   "source": [
    "image_path = \"./dataset/test_img/Healthy_fishies/Red Mullet/00142.png\"\n",
    "original_image = cv2.imread(image_path)\n",
    "image = Image.fromarray(cv2.cvtColor(original_image, cv2.COLOR_BGR2RGB))"
   ]
  },
  {
   "cell_type": "markdown",
   "metadata": {},
   "source": [
    "### Lets go!"
   ]
  },
  {
   "cell_type": "code",
   "execution_count": null,
   "metadata": {},
   "outputs": [],
   "source": [
    "yolo_result = fish_model(image)\n",
    "yolo_preds = yolo_result.pandas().xyxy[0]\n",
    "\n",
    "if len(yolo_preds) > 0:\n",
    "    print(f\"Fish detected\")\n",
    "    \n",
    "for _, yolo_pred in yolo_preds.iterrows():\n",
    "    bbox = yolo_pred[['xmin', 'ymin', 'xmax', 'ymax']].astype(int).tolist()\n",
    "    roi = original_image[bbox[1]:bbox[3], bbox[0]:bbox[2]]  \n",
    "\n",
    "    # Preprocessing för sick model  \n",
    "\n",
    "    second_model_output = sick_model.predict([........])\n",
    "\n",
    "    print(f\"Prediction for ROI: Class {second_model_output[0]}\")\n",
    "\n",
    "else:\n",
    "    print(f\"No fish detected\")\n"
   ]
  },
  {
   "cell_type": "code",
   "execution_count": null,
   "metadata": {},
   "outputs": [],
   "source": []
  },
  {
   "cell_type": "code",
   "execution_count": null,
   "metadata": {},
   "outputs": [],
   "source": []
  },
  {
   "cell_type": "code",
   "execution_count": null,
   "metadata": {},
   "outputs": [],
   "source": []
  }
 ],
 "metadata": {
  "kernelspec": {
   "display_name": "Python 3",
   "language": "python",
   "name": "python3"
  },
  "language_info": {
   "codemirror_mode": {
    "name": "ipython",
    "version": 3
   },
   "file_extension": ".py",
   "mimetype": "text/x-python",
   "name": "python",
   "nbconvert_exporter": "python",
   "pygments_lexer": "ipython3",
   "version": "3.10.6"
  }
 },
 "nbformat": 4,
 "nbformat_minor": 2
}
